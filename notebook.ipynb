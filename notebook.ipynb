{
 "cells": [
  {
   "cell_type": "code",
   "execution_count": 112,
   "metadata": {
    "scrolled": false
   },
   "outputs": [
    {
     "ename": "IndexError",
     "evalue": "shape mismatch: indexing arrays could not be broadcast together with shapes (32,) (8,) (256,) ",
     "output_type": "error",
     "traceback": [
      "\u001b[0;31m---------------------------------------------------------------------------\u001b[0m",
      "\u001b[0;31mIndexError\u001b[0m                                Traceback (most recent call last)",
      "\u001b[0;32m~/sjsu/ee252_advanced_communications/homework/hw8/python/bpsk_rayleigh_3path.py\u001b[0m in \u001b[0;36m<module>\u001b[0;34m\u001b[0m\n\u001b[1;32m     38\u001b[0m \u001b[0;32mif\u001b[0m \u001b[0mCOMBINER\u001b[0m \u001b[0;34m==\u001b[0m \u001b[0;34m\"section\"\u001b[0m\u001b[0;34m:\u001b[0m\u001b[0;34m\u001b[0m\u001b[0;34m\u001b[0m\u001b[0m\n\u001b[1;32m     39\u001b[0m     \u001b[0mk_max\u001b[0m \u001b[0;34m=\u001b[0m \u001b[0mnp\u001b[0m\u001b[0;34m.\u001b[0m\u001b[0margmax\u001b[0m\u001b[0;34m(\u001b[0m\u001b[0mnp\u001b[0m\u001b[0;34m.\u001b[0m\u001b[0mabs\u001b[0m\u001b[0;34m(\u001b[0m\u001b[0mal_nlk\u001b[0m\u001b[0;34m)\u001b[0m\u001b[0;34m,\u001b[0m\u001b[0maxis\u001b[0m\u001b[0;34m=\u001b[0m\u001b[0;36m2\u001b[0m\u001b[0;34m)\u001b[0m\u001b[0;34m.\u001b[0m\u001b[0mreshape\u001b[0m\u001b[0;34m(\u001b[0m\u001b[0;34m-\u001b[0m\u001b[0;36m1\u001b[0m\u001b[0;34m)\u001b[0m\u001b[0;34m\u001b[0m\u001b[0;34m\u001b[0m\u001b[0m\n\u001b[0;32m---> 40\u001b[0;31m     \u001b[0myy_nl\u001b[0m \u001b[0;34m=\u001b[0m \u001b[0mrr_nlk\u001b[0m\u001b[0;34m[\u001b[0m\u001b[0mn\u001b[0m\u001b[0;34m,\u001b[0m\u001b[0ml\u001b[0m\u001b[0;34m,\u001b[0m\u001b[0mk_max\u001b[0m\u001b[0;34m]\u001b[0m\u001b[0;34m\u001b[0m\u001b[0;34m\u001b[0m\u001b[0m\n\u001b[0m\u001b[1;32m     41\u001b[0m \u001b[0;32melif\u001b[0m \u001b[0mCOMBINER\u001b[0m \u001b[0;34m==\u001b[0m \u001b[0;34m\"equal gain\"\u001b[0m\u001b[0;34m:\u001b[0m\u001b[0;34m\u001b[0m\u001b[0;34m\u001b[0m\u001b[0m\n\u001b[1;32m     42\u001b[0m     \u001b[0myy_nl\u001b[0m \u001b[0;34m=\u001b[0m \u001b[0mnp\u001b[0m\u001b[0;34m.\u001b[0m\u001b[0mmean\u001b[0m\u001b[0;34m(\u001b[0m\u001b[0mrr_nlk\u001b[0m\u001b[0;34m,\u001b[0m\u001b[0maxis\u001b[0m\u001b[0;34m=\u001b[0m\u001b[0;36m2\u001b[0m\u001b[0;34m)\u001b[0m\u001b[0;34m\u001b[0m\u001b[0;34m\u001b[0m\u001b[0m\n",
      "\u001b[0;31mIndexError\u001b[0m: shape mismatch: indexing arrays could not be broadcast together with shapes (32,) (8,) (256,) "
     ]
    }
   ],
   "source": [
    "%run -i ./python/bpsk_rayleigh_3path.py"
   ]
  },
  {
   "cell_type": "code",
   "execution_count": 113,
   "metadata": {},
   "outputs": [
    {
     "data": {
      "text/plain": [
       "(32, 8, 256)"
      ]
     },
     "execution_count": 113,
     "metadata": {},
     "output_type": "execute_result"
    }
   ],
   "source": [
    "_,_,k_mg = np.meshgrid(n,l,k_max,indexing=\"ij\")\n",
    "k_mg.shape"
   ]
  },
  {
   "cell_type": "code",
   "execution_count": 131,
   "metadata": {
    "scrolled": true
   },
   "outputs": [
    {
     "data": {
      "text/plain": [
       "array([[[ 0.13+1.45j, -0.88-0.81j,  0.33+0.53j],\n",
       "        [ 0.4 -0.11j, -0.23-1.91j,  0.85+0.5j ],\n",
       "        [-2.07+0.25j, -0.34+0.4j , -1.09+0.78j],\n",
       "        [-0.5 -0.23j, -1.42+0.1j , -1.51+0.08j],\n",
       "        [-0.7 -0.03j, -0.57+0.03j, -1.1 +0.04j],\n",
       "        [-1.28-0.04j, -0.32+0.01j, -0.64-0.03j],\n",
       "        [-1.17-0.01j, -1.52-0.03j, -0.27-0.01j],\n",
       "        [-0.3 -0.j  , -1.11+0.j  , -0.91+0.j  ]],\n",
       "\n",
       "       [[ 4.62-3.45j,  1.91+1.93j,  1.38-0.27j],\n",
       "        [ 2.22+0.48j,  0.24+0.95j,  1.14+1.4j ],\n",
       "        [ 1.07+0.85j,  0.94-0.03j,  1.17+0.13j],\n",
       "        [ 0.86-0.2j ,  1.05+0.2j ,  1.29-0.22j],\n",
       "        [ 0.84-0.15j,  0.49+0.07j,  0.44-0.04j],\n",
       "        [ 0.86+0.03j,  0.55+0.01j,  0.51-0.06j],\n",
       "        [ 0.48-0.04j,  0.33-0.02j,  0.52+0.j  ],\n",
       "        [ 1.6 -0.01j,  1.07-0.j  ,  0.45-0.01j]],\n",
       "\n",
       "       [[-2.47+0.38j,  0.21+0.2j ,  1.09-1.08j],\n",
       "        [ 0.14+1.37j,  0.16+1.47j, -0.11+0.56j],\n",
       "        [ 0.21-0.78j,  0.46-0.48j,  1.16+0.18j],\n",
       "        [ 0.22-0.12j,  0.75-0.09j,  0.63+0.17j],\n",
       "        [ 0.82+0.04j,  1.77+0.11j,  0.53-0.04j],\n",
       "        [ 0.39+0.05j,  0.55-0.02j,  0.36+0.05j],\n",
       "        [ 0.98+0.j  ,  0.66-0.01j,  1.87-0.03j],\n",
       "        [ 1.36-0.j  ,  1.08-0.j  ,  1.64+0.01j]],\n",
       "\n",
       "       [[-2.89-0.25j,  3.13-0.97j, -1.52+2.41j],\n",
       "        [-1.24-0.22j, -0.65-0.57j, -0.05+0.56j],\n",
       "        [-1.4 -0.21j, -0.09+0.28j, -0.18-0.26j],\n",
       "        [-0.55-0.04j, -0.08+0.03j, -1.41-0.07j],\n",
       "        [-0.15-0.j  , -0.38+0.07j, -1.72+0.03j],\n",
       "        [-1.11+0.02j, -1.2 -0.02j, -0.85+0.03j],\n",
       "        [-0.84+0.01j, -1.49+0.02j, -0.58-0.01j],\n",
       "        [-0.92-0.j  , -1.37+0.j  , -1.2 -0.j  ]],\n",
       "\n",
       "       [[-1.93-0.51j,  2.28+4.31j,  1.58+4.36j],\n",
       "        [ 2.65+1.22j,  1.17+0.92j,  0.4 -1.j  ],\n",
       "        [ 0.13+0.22j,  0.99-0.16j,  0.43-0.46j],\n",
       "        [ 0.57-0.1j ,  0.55+0.02j,  0.79-0.1j ],\n",
       "        [ 0.62-0.05j,  1.02+0.07j,  0.85+0.01j],\n",
       "        [ 0.17+0.01j,  0.99+0.j  ,  1.86-0.02j],\n",
       "        [ 0.77-0.02j,  1.14+0.j  ,  1.91-0.01j],\n",
       "        [ 0.47-0.01j,  1.14-0.j  ,  0.48-0.01j]],\n",
       "\n",
       "       [[-1.62+1.56j,  2.76+1.17j, -3.14+1.11j],\n",
       "        [ 1.88-0.65j,  0.84+0.72j,  2.13+0.31j],\n",
       "        [ 0.82-0.18j,  1.03-0.2j ,  1.53+0.39j],\n",
       "        [ 1.21-0.09j,  1.85+0.06j,  1.7 +0.2j ],\n",
       "        [ 1.09+0.16j,  1.23+0.14j,  1.01+0.08j],\n",
       "        [ 0.37-0.06j,  0.26-0.03j,  1.2 -0.02j],\n",
       "        [ 1.08+0.03j,  1.05-0.01j,  0.91+0.01j],\n",
       "        [ 0.5 +0.j  ,  0.81-0.01j,  1.83+0.j  ]],\n",
       "\n",
       "       [[ 1.09+0.89j,  1.83-2.81j, -1.01+2.73j],\n",
       "        [ 1.88-2.05j,  1.35-0.58j,  0.81+0.95j],\n",
       "        [ 0.22-0.52j,  0.92+0.15j,  1.11-0.56j],\n",
       "        [ 1.12-0.02j,  0.91-0.44j,  1.6 -0.16j],\n",
       "        [ 0.86-0.13j,  0.39-0.03j,  0.52-0.03j],\n",
       "        [ 1.05-0.02j,  0.83+0.03j,  2.  -0.03j],\n",
       "        [ 0.55+0.01j,  0.52+0.03j,  0.36+0.j  ],\n",
       "        [ 1.01-0.01j,  0.44-0.01j,  0.97-0.01j]],\n",
       "\n",
       "       [[ 1.36+1.58j,  2.94+0.35j, -0.79+2.09j],\n",
       "        [-0.17+0.76j,  2.4 +0.14j, -0.75+0.47j],\n",
       "        [ 0.52+0.8j ,  1.32+0.61j,  2.15-0.13j],\n",
       "        [ 0.88+0.19j,  0.35+0.11j,  0.98+0.22j],\n",
       "        [ 0.34+0.06j,  0.72-0.08j,  0.86-0.14j],\n",
       "        [ 0.65+0.02j,  1.53+0.07j,  1.52-0.03j],\n",
       "        [ 0.56-0.j  ,  0.58-0.02j,  0.91+0.02j],\n",
       "        [ 0.83-0.02j,  0.47-0.02j,  1.5 +0.j  ]],\n",
       "\n",
       "       [[ 3.22-0.18j, -3.56-1.07j,  1.7 -0.67j],\n",
       "        [-0.99+0.53j, -1.43-0.41j, -1.46-1.08j],\n",
       "        [ 1.46-0.4j ,  0.26+0.38j,  0.75-0.23j],\n",
       "        [ 1.08-0.26j,  0.84+0.02j,  0.14+0.1j ],\n",
       "        [ 1.7 +0.11j,  0.53+0.02j,  1.16-0.05j],\n",
       "        [ 0.33+0.02j,  0.5 +0.03j,  0.33-0.j  ],\n",
       "        [ 1.23-0.j  ,  0.18+0.j  ,  0.2 -0.j  ],\n",
       "        [ 0.33+0.j  ,  0.45-0.01j,  0.19-0.01j]],\n",
       "\n",
       "       [[ 3.53-1.87j,  1.77+1.44j, -1.27+0.58j],\n",
       "        [ 2.47+1.02j,  1.08-0.18j, -0.43-1.12j],\n",
       "        [ 0.99+0.49j,  1.86-0.01j,  0.49+0.55j],\n",
       "        [ 1.54+0.11j,  0.66+0.42j,  0.4 -0.04j],\n",
       "        [ 0.64+0.08j,  1.21+0.07j,  0.25-0.05j],\n",
       "        [ 1.69-0.01j,  0.93-0.05j,  0.99-0.06j],\n",
       "        [ 0.59+0.j  ,  1.58+0.01j,  0.36+0.01j],\n",
       "        [ 0.42+0.j  ,  0.73+0.01j,  0.53-0.j  ]],\n",
       "\n",
       "       [[-0.24-0.61j,  2.28+1.65j, -2.24+0.97j],\n",
       "        [ 1.13-0.21j,  0.3 +1.3j ,  0.33-1.27j],\n",
       "        [ 1.17-0.22j,  0.59-0.12j,  0.48+0.35j],\n",
       "        [ 0.16+0.j  ,  1.53-0.24j,  0.44+0.1j ],\n",
       "        [ 0.77+0.09j,  0.88+0.06j,  0.69+0.05j],\n",
       "        [ 0.52-0.07j,  0.34-0.03j,  2.32+0.02j],\n",
       "        [ 1.81-0.j  ,  0.36+0.01j,  0.61-0.02j],\n",
       "        [ 0.83-0.j  ,  1.08-0.01j,  0.3 -0.01j]],\n",
       "\n",
       "       [[-3.17+0.66j, -4.76+1.88j,  5.78+0.55j],\n",
       "        [-1.68-0.03j, -1.98-1.53j, -2.05+0.99j],\n",
       "        [-0.56-0.02j, -0.97+0.85j, -2.  +0.41j],\n",
       "        [-0.92-0.38j, -1.25+0.14j, -1.56-0.26j],\n",
       "        [-0.49-0.06j, -0.57-0.02j, -1.51-0.01j],\n",
       "        [-1.15+0.01j, -0.19-0.04j, -0.84-0.04j],\n",
       "        [-0.1 +0.01j, -0.5 -0.j  , -0.29+0.j  ],\n",
       "        [-0.27-0.02j, -0.94-0.j  , -1.21-0.01j]],\n",
       "\n",
       "       [[-1.18-2.06j, -4.95+2.06j,  0.63-2.45j],\n",
       "        [-0.59-1.07j, -1.77-0.33j, -0.19+0.44j],\n",
       "        [-1.24-0.38j, -0.76+0.53j, -0.73+0.63j],\n",
       "        [-1.05-0.17j, -0.81-0.05j, -0.24-0.15j],\n",
       "        [-0.5 -0.14j, -0.74+0.03j, -0.25+0.06j],\n",
       "        [-0.6 +0.07j, -0.74-0.03j, -0.63+0.05j],\n",
       "        [-0.68+0.02j, -0.57+0.j  , -0.66+0.01j],\n",
       "        [-0.65+0.01j, -1.42+0.01j, -0.57+0.j  ]],\n",
       "\n",
       "       [[ 0.09-0.13j, -0.94-1.94j,  2.46+0.68j],\n",
       "        [ 0.38+1.01j,  1.13+0.24j,  0.3 -0.77j],\n",
       "        [ 0.93+0.04j,  0.53-0.06j,  2.5 +0.11j],\n",
       "        [ 0.66-0.32j,  1.17+0.1j ,  0.07+0.11j],\n",
       "        [ 0.54+0.04j,  1.17-0.j  ,  1.17-0.15j],\n",
       "        [ 0.46-0.j  ,  0.52+0.04j,  1.26-0.03j],\n",
       "        [ 0.59-0.03j,  1.07-0.02j,  1.81+0.01j],\n",
       "        [ 1.27+0.j  ,  0.42+0.01j,  0.37-0.j  ]],\n",
       "\n",
       "       [[-4.77-3.35j,  2.1 -1.83j, -1.98+1.83j],\n",
       "        [-0.15+0.14j, -2.55+0.64j,  1.2 +0.43j],\n",
       "        [-1.61-0.09j, -0.23-0.08j, -0.67+0.8j ],\n",
       "        [-0.5 +0.08j, -0.21-0.02j, -1.73+0.09j],\n",
       "        [-1.02+0.02j, -0.17-0.18j, -0.59+0.05j],\n",
       "        [-0.4 +0.07j, -0.17-0.03j, -0.38+0.05j],\n",
       "        [-0.24-0.j  , -0.79+0.j  , -1.01+0.02j],\n",
       "        [-0.71-0.01j, -1.21+0.01j, -0.92-0.01j]],\n",
       "\n",
       "       [[ 1.74-1.96j, -5.56-1.33j, -0.62+1.48j],\n",
       "        [-1.45-0.33j,  1.24-1.49j, -0.58-0.21j],\n",
       "        [-0.84-0.34j, -1.22+0.32j, -1.4 -0.15j],\n",
       "        [-1.25+0.01j,  0.12-0.08j, -1.54+0.08j],\n",
       "        [-0.73-0.02j, -1.43+0.03j, -1.21-0.22j],\n",
       "        [-0.2 +0.j  , -1.25+0.02j, -1.03-0.01j],\n",
       "        [-0.39+0.01j, -1.51+0.01j, -0.68+0.02j],\n",
       "        [-0.73+0.j  , -0.85-0.01j, -0.84-0.02j]],\n",
       "\n",
       "       [[-0.04-3.58j,  2.26-0.08j, -1.5 -0.35j],\n",
       "        [-1.64+0.27j,  0.29-0.61j, -1.65-0.72j],\n",
       "        [-0.99+0.24j,  0.25+0.28j, -1.21-0.11j],\n",
       "        [-0.14-0.01j, -0.32+0.08j, -0.48+0.1j ],\n",
       "        [-1.11-0.1j , -0.72-0.06j, -1.45-0.1j ],\n",
       "        [-0.2 -0.02j, -1.28+0.03j, -0.57+0.02j],\n",
       "        [-1.4 -0.02j, -0.17+0.01j, -1.1 +0.j  ],\n",
       "        [-1.43-0.j  , -0.94-0.01j, -0.51-0.j  ]],\n",
       "\n",
       "       [[ 0.52+1.52j,  3.23-4.84j, -0.62-0.89j],\n",
       "        [ 1.18+2.21j, -0.99+0.66j, -0.12+0.26j],\n",
       "        [ 0.08-0.32j, -1.14-0.29j, -1.45-0.04j],\n",
       "        [-0.89+0.3j , -0.88+0.09j, -1.41-0.17j],\n",
       "        [-1.21+0.1j , -0.57-0.02j, -0.99+0.14j],\n",
       "        [-0.85-0.02j, -0.85-0.04j, -0.62+0.01j],\n",
       "        [-0.95+0.02j, -0.92+0.02j, -0.4 +0.j  ],\n",
       "        [-0.33-0.01j, -0.64-0.j  , -0.63-0.01j]],\n",
       "\n",
       "       [[-0.81-2.04j, -2.55-0.4j , -2.1 +0.87j],\n",
       "        [-1.9 -0.33j, -0.72-0.06j, -0.72-0.39j],\n",
       "        [-0.92+0.32j, -0.34-0.39j, -0.7 +0.36j],\n",
       "        [-1.6 +0.37j, -0.1 +0.09j, -1.71-0.1j ],\n",
       "        [-0.26-0.04j, -0.1 +0.1j , -0.53-0.09j],\n",
       "        [-0.72-0.03j, -0.84-0.04j, -0.41-0.05j],\n",
       "        [-0.68-0.02j, -2.13+0.01j, -1.23+0.02j],\n",
       "        [-1.26-0.j  , -1.76+0.j  , -0.24+0.01j]],\n",
       "\n",
       "       [[-0.25+0.22j, -0.21-2.14j,  3.23-3.29j],\n",
       "        [ 1.42+0.99j,  1.65+0.49j, -0.23+0.57j],\n",
       "        [ 1.26-0.48j,  1.03+0.1j ,  1.07+0.27j],\n",
       "        [ 0.33+0.06j,  0.72-0.14j,  1.51+0.19j],\n",
       "        [ 0.59-0.13j,  0.41+0.08j,  0.8 +0.09j],\n",
       "        [ 1.95+0.06j,  1.09-0.01j,  1.02-0.04j],\n",
       "        [ 1.96+0.01j,  0.81-0.01j,  0.84+0.j  ],\n",
       "        [ 0.41-0.j  ,  0.78-0.01j,  1.35+0.j  ]],\n",
       "\n",
       "       [[-0.26-3.11j, -0.96+1.32j, -0.6 -2.16j],\n",
       "        [ 0.9 -1.7j ,  0.2 -0.05j, -0.98+0.42j],\n",
       "        [-1.17+0.25j, -0.71+0.35j, -1.17-1.02j],\n",
       "        [-0.87-0.19j, -1.4 +0.02j, -0.69+0.29j],\n",
       "        [-1.25+0.07j, -1.19+0.16j, -0.99-0.04j],\n",
       "        [-1.37+0.01j, -1.14-0.04j, -1.  -0.01j],\n",
       "        [-0.97-0.01j, -1.44-0.01j, -0.86-0.01j],\n",
       "        [-0.38+0.j  , -0.65+0.j  , -1.12+0.j  ]],\n",
       "\n",
       "       [[ 0.61+0.31j,  1.84-0.77j, -2.1 -1.17j],\n",
       "        [ 0.64-0.3j ,  1.44-0.44j,  1.45+0.48j],\n",
       "        [ 1.47+0.37j,  1.02+0.55j,  1.74-0.34j],\n",
       "        [ 0.78+0.09j,  1.43-0.26j,  0.58+0.07j],\n",
       "        [ 1.49+0.09j,  1.54-0.01j,  1.31+0.09j],\n",
       "        [ 0.37-0.04j,  0.99-0.03j,  0.43-0.j  ],\n",
       "        [ 0.71+0.02j,  0.96-0.01j,  0.33-0.01j],\n",
       "        [ 0.34-0.01j,  0.39+0.j  ,  0.89+0.01j]],\n",
       "\n",
       "       [[ 4.31+1.57j,  2.75+1.56j,  1.06-0.46j],\n",
       "        [ 0.52-0.55j, -0.05+0.67j,  0.85-0.03j],\n",
       "        [ 1.15-0.07j, -0.01+0.39j, -0.2 -0.09j],\n",
       "        [ 1.16-0.16j,  1.07+0.17j,  0.22+0.02j],\n",
       "        [ 0.69-0.09j,  0.9 -0.09j,  1.76+0.01j],\n",
       "        [ 0.15+0.09j,  1.37-0.01j,  0.48-0.01j],\n",
       "        [ 1.64+0.02j,  0.23-0.j  ,  0.57-0.02j],\n",
       "        [ 1.38-0.01j,  0.52+0.01j,  0.17+0.j  ]],\n",
       "\n",
       "       [[ 0.42+1.85j, -2.52-0.13j,  2.33-1.62j],\n",
       "        [ 0.55-0.21j, -0.07+0.13j, -1.53-0.82j],\n",
       "        [-0.53+0.24j, -1.09-0.54j,  0.13-0.14j],\n",
       "        [-0.25-0.04j, -0.71-0.13j, -1.12-0.42j],\n",
       "        [-0.59+0.04j, -1.14-0.06j, -1.51+0.11j],\n",
       "        [-0.53-0.01j, -1.06-0.02j, -1.93+0.j  ],\n",
       "        [-0.53+0.02j, -1.65-0.01j, -1.14+0.02j],\n",
       "        [-0.35+0.01j, -0.41+0.01j, -2.17+0.01j]],\n",
       "\n",
       "       [[-1.8 +2.89j, -0.31+3.39j, -0.34+3.59j],\n",
       "        [-0.67+0.2j , -1.37-0.42j, -1.01-2.22j],\n",
       "        [-0.13-0.57j, -0.79-0.19j, -0.85-0.16j],\n",
       "        [-0.4 -0.03j, -1.06-0.19j, -0.55-0.3j ],\n",
       "        [-0.9 -0.01j, -0.28-0.02j, -1.06-0.07j],\n",
       "        [-1.18-0.03j, -0.4 -0.03j, -1.31-0.01j],\n",
       "        [-1.32-0.01j, -0.42+0.02j, -1.28+0.j  ],\n",
       "        [-0.92-0.01j, -0.85-0.j  , -0.65-0.01j]],\n",
       "\n",
       "       [[-2.5 +2.26j,  1.47+3.1j , -3.38+2.8j ],\n",
       "        [ 1.91-1.12j,  1.  -0.09j, -0.51-0.39j],\n",
       "        [ 0.19+0.24j,  0.47-0.44j, -0.  -0.29j],\n",
       "        [ 0.13-0.08j,  0.12+0.03j,  1.01+0.13j],\n",
       "        [ 0.07-0.03j,  1.45+0.06j,  0.11+0.07j],\n",
       "        [ 1.36-0.01j,  0.72-0.05j,  0.28-0.04j],\n",
       "        [ 0.46+0.01j,  0.69-0.01j,  1.02-0.03j],\n",
       "        [ 1.42+0.j  ,  0.74+0.j  ,  0.4 -0.01j]],\n",
       "\n",
       "       [[ 2.74+2.64j,  3.5 +1.87j,  4.18+0.31j],\n",
       "        [-0.1 -1.25j,  0.59-1.38j,  2.37-0.3j ],\n",
       "        [ 0.17-0.74j,  0.34+0.17j,  0.18-0.61j],\n",
       "        [ 1.06+0.03j,  1.06-0.05j,  1.72+0.14j],\n",
       "        [ 1.97-0.08j,  1.77+0.02j,  0.4 -0.12j],\n",
       "        [ 0.9 +0.03j,  0.79-0.j  ,  0.38+0.02j],\n",
       "        [ 0.06-0.02j,  1.  +0.01j,  0.32+0.j  ],\n",
       "        [ 0.97+0.j  ,  1.02+0.j  ,  0.99-0.j  ]],\n",
       "\n",
       "       [[-1.89+2.78j,  3.07-0.35j, -0.9 -1.65j],\n",
       "        [ 0.08-0.06j,  1.42-0.93j,  0.89-0.46j],\n",
       "        [ 1.88-0.08j,  1.09-0.16j,  0.81+0.09j],\n",
       "        [ 1.41+0.37j,  1.34+0.11j,  1.03+0.2j ],\n",
       "        [ 0.57-0.04j,  0.66-0.05j,  0.7 -0.03j],\n",
       "        [ 0.87+0.03j,  2.31-0.08j,  0.6 -0.04j],\n",
       "        [ 1.37+0.j  ,  0.85-0.j  ,  0.54+0.03j],\n",
       "        [ 0.79+0.j  ,  0.53-0.j  ,  2.05-0.01j]],\n",
       "\n",
       "       [[ 3.02-0.76j,  0.31-2.91j, -0.62+1.04j],\n",
       "        [ 2.38+0.16j,  1.97+0.31j,  0.51+2.04j],\n",
       "        [ 1.31-0.39j,  0.86-0.08j,  1.06-0.52j],\n",
       "        [ 0.71-0.02j, -0.09+0.3j ,  1.  +0.11j],\n",
       "        [ 0.03-0.01j,  1.01+0.02j,  1.04-0.1j ],\n",
       "        [ 0.9 -0.01j,  0.82+0.j  ,  0.81+0.j  ],\n",
       "        [ 0.23-0.02j,  1.53+0.01j,  0.69+0.j  ],\n",
       "        [ 0.24-0.j  ,  0.96+0.j  ,  0.19-0.01j]],\n",
       "\n",
       "       [[-1.06-3.31j,  0.6 +0.3j , -0.84-1.49j],\n",
       "        [-1.05-0.01j, -0.68+0.82j,  0.84-0.17j],\n",
       "        [-0.85-1.21j, -0.02-0.07j, -2.31-0.21j],\n",
       "        [-0.93-0.04j, -1.98+0.17j, -0.48-0.3j ],\n",
       "        [-0.69+0.02j, -0.51+0.13j, -1.16-0.05j],\n",
       "        [-0.73+0.02j, -1.72+0.04j, -1.26+0.01j],\n",
       "        [-0.63-0.01j, -0.44-0.01j, -0.85+0.01j],\n",
       "        [-0.59+0.j  , -0.36-0.01j, -0.75-0.01j]],\n",
       "\n",
       "       [[ 1.7 -2.86j,  1.45+3.72j,  1.69-0.15j],\n",
       "        [ 1.9 +2.32j,  0.59+0.55j,  1.71+0.43j],\n",
       "        [ 1.1 +0.13j,  1.78+0.43j,  1.63-0.42j],\n",
       "        [ 0.79+0.41j,  0.97-0.02j,  1.04-0.13j],\n",
       "        [ 0.47+0.03j,  0.46+0.09j,  1.31-0.08j],\n",
       "        [ 0.2 +0.02j,  0.51-0.03j,  1.18-0.02j],\n",
       "        [ 1.01-0.01j,  1.23+0.01j,  0.11-0.02j],\n",
       "        [ 1.4 +0.j  ,  0.48-0.j  ,  1.65-0.01j]],\n",
       "\n",
       "       [[ 5.43-2.71j, -1.04-2.69j,  1.32-3.65j],\n",
       "        [-0.77+0.88j, -2.57-0.24j, -1.38+0.16j],\n",
       "        [-1.11+0.51j, -1.02-0.53j,  0.36-0.41j],\n",
       "        [-0.84+0.05j, -1.65-0.35j, -0.4 -0.11j],\n",
       "        [-1.32-0.08j, -0.2 +0.03j, -0.78-0.04j],\n",
       "        [-0.17+0.07j, -0.64+0.03j, -1.85-0.03j],\n",
       "        [-0.3 -0.01j, -0.71-0.01j, -1.15+0.05j],\n",
       "        [-0.07-0.01j, -1.1 +0.j  , -0.9 -0.01j]]])"
      ]
     },
     "execution_count": 131,
     "metadata": {},
     "output_type": "execute_result"
    }
   ],
   "source": [
    "n_nlk, l_nlk, nlk_max = np.meshgrid(n,l,k_max)\n",
    "rr_nlk"
   ]
  },
  {
   "cell_type": "code",
   "execution_count": 123,
   "metadata": {},
   "outputs": [
    {
     "ename": "NameError",
     "evalue": "name 'nlk_max' is not defined",
     "output_type": "error",
     "traceback": [
      "\u001b[0;31m---------------------------------------------------------------------------\u001b[0m",
      "\u001b[0;31mNameError\u001b[0m                                 Traceback (most recent call last)",
      "\u001b[0;32m~/sjsu/ee252_advanced_communications/homework/hw8/python/bpsk_rayleigh_3path.py\u001b[0m in \u001b[0;36m<module>\u001b[0;34m\u001b[0m\n\u001b[0;32m----> 1\u001b[0;31m \u001b[0mnlk_max\u001b[0m\u001b[0;34m\u001b[0m\u001b[0;34m\u001b[0m\u001b[0m\n\u001b[0m",
      "\u001b[0;31mNameError\u001b[0m: name 'nlk_max' is not defined"
     ]
    }
   ],
   "source": [
    "nlk_max"
   ]
  },
  {
   "cell_type": "code",
   "execution_count": 102,
   "metadata": {},
   "outputs": [
    {
     "ename": "IndexError",
     "evalue": "shape mismatch: indexing arrays could not be broadcast together with shapes (32,) (8,) (3,) ",
     "output_type": "error",
     "traceback": [
      "\u001b[0;31m---------------------------------------------------------------------------\u001b[0m",
      "\u001b[0;31mIndexError\u001b[0m                                Traceback (most recent call last)",
      "\u001b[0;32m~/sjsu/ee252_advanced_communications/homework/hw8/python/bpsk_rayleigh_3path.py\u001b[0m in \u001b[0;36m<module>\u001b[0;34m\u001b[0m\n\u001b[0;32m----> 1\u001b[0;31m \u001b[0mrr_nlk\u001b[0m\u001b[0;34m[\u001b[0m\u001b[0mn\u001b[0m\u001b[0;34m,\u001b[0m\u001b[0ml\u001b[0m\u001b[0;34m,\u001b[0m\u001b[0mk\u001b[0m\u001b[0;34m]\u001b[0m\u001b[0;34m\u001b[0m\u001b[0;34m\u001b[0m\u001b[0m\n\u001b[0m",
      "\u001b[0;31mIndexError\u001b[0m: shape mismatch: indexing arrays could not be broadcast together with shapes (32,) (8,) (3,) "
     ]
    }
   ],
   "source": [
    "rr_nlk[n,l,k]"
   ]
  },
  {
   "cell_type": "code",
   "execution_count": 50,
   "metadata": {
    "scrolled": false
   },
   "outputs": [
    {
     "name": "stdout",
     "output_type": "stream",
     "text": [
      "[[[1.46 1.2  0.63]]\n",
      "\n",
      " [[5.77 2.71 1.41]]\n",
      "\n",
      " [[2.5  0.29 1.53]]\n",
      "\n",
      " [[2.9  3.27 2.85]]\n",
      "\n",
      " [[1.99 4.87 4.64]]\n",
      "\n",
      " [[2.25 3.   3.33]]\n",
      "\n",
      " [[1.41 3.35 2.92]]\n",
      "\n",
      " [[2.08 2.96 2.24]]]\n"
     ]
    }
   ],
   "source": [
    "rr = rr_nlk[0:8,0:1,:]\n",
    "print(np.abs(rr))"
   ]
  },
  {
   "cell_type": "code",
   "execution_count": 75,
   "metadata": {},
   "outputs": [
    {
     "data": {
      "text/plain": [
       "array([[[1.46, 1.46, 1.46, 1.2 , 1.2 , 0.63, 1.2 , 1.2 ]],\n",
       "\n",
       "       [[5.77, 5.77, 5.77, 2.71, 2.71, 1.41, 2.71, 2.71]],\n",
       "\n",
       "       [[2.5 , 2.5 , 2.5 , 0.29, 0.29, 1.53, 0.29, 0.29]],\n",
       "\n",
       "       [[2.9 , 2.9 , 2.9 , 3.27, 3.27, 2.85, 3.27, 3.27]],\n",
       "\n",
       "       [[1.99, 1.99, 1.99, 4.87, 4.87, 4.64, 4.87, 4.87]],\n",
       "\n",
       "       [[2.25, 2.25, 2.25, 3.  , 3.  , 3.33, 3.  , 3.  ]],\n",
       "\n",
       "       [[1.41, 1.41, 1.41, 3.35, 3.35, 2.92, 3.35, 3.35]],\n",
       "\n",
       "       [[2.08, 2.08, 2.08, 2.96, 2.96, 2.24, 2.96, 2.96]]])"
      ]
     },
     "execution_count": 75,
     "metadata": {},
     "output_type": "execute_result"
    }
   ],
   "source": [
    "k_min = np.argmax(np.abs(rr),axis=2)\n",
    "np.abs(rr[:,:,k_min])"
   ]
  },
  {
   "cell_type": "code",
   "execution_count": 79,
   "metadata": {},
   "outputs": [
    {
     "data": {
      "text/plain": [
       "array([[0],\n",
       "       [0],\n",
       "       [0],\n",
       "       [0],\n",
       "       [0],\n",
       "       [0],\n",
       "       [0],\n",
       "       [0]])"
      ]
     },
     "execution_count": 79,
     "metadata": {},
     "output_type": "execute_result"
    }
   ],
   "source": [
    "n_, l_, k_ = np.unravel_index(np.argmax(np.abs(rr),axis=2),shape=rr.shape)\n",
    "n_"
   ]
  },
  {
   "cell_type": "code",
   "execution_count": 41,
   "metadata": {},
   "outputs": [
    {
     "data": {
      "text/plain": [
       "array([[[ 0.13072071+1.45353804j, -0.87904773-0.81430845j,\n",
       "          0.32892668+0.53370822j]],\n",
       "\n",
       "       [[ 4.62016843-3.44866115j,  1.90831184+1.92782166j,\n",
       "          1.38278596-0.26516775j]],\n",
       "\n",
       "       [[-2.46756532+0.37985867j,  0.21132096+0.20309295j,\n",
       "          1.09054518-1.07642663j]],\n",
       "\n",
       "       [[-2.88976672-0.24728788j,  3.12757507-0.9669473j ,\n",
       "         -1.52475723+2.408329j  ]],\n",
       "\n",
       "       [[-1.92550443-0.50562521j,  2.27592934+4.30623254j,\n",
       "          1.57689219+4.3642703j ]],\n",
       "\n",
       "       [[-1.62094915+1.56222942j,  2.76419118+1.16638947j,\n",
       "         -3.14172554+1.11108685j]],\n",
       "\n",
       "       [[ 1.08668524+0.89061712j,  1.82960258-2.807998j  ,\n",
       "         -1.01045969+2.7344371j ]],\n",
       "\n",
       "       [[ 1.36145571+1.57562902j,  2.94116902+0.34791146j,\n",
       "         -0.79242184+2.09473778j]]])"
      ]
     },
     "execution_count": 41,
     "metadata": {},
     "output_type": "execute_result"
    }
   ],
   "source": [
    "rr"
   ]
  },
  {
   "cell_type": "code",
   "execution_count": 29,
   "metadata": {},
   "outputs": [],
   "source": [
    "??np.argmax"
   ]
  },
  {
   "cell_type": "code",
   "execution_count": 668,
   "metadata": {},
   "outputs": [
    {
     "data": {
      "text/plain": [
       "(array([[0, 0],\n",
       "        [0, 0],\n",
       "        [0, 0],\n",
       "        [0, 0],\n",
       "        [0, 0],\n",
       "        [0, 0],\n",
       "        [0, 0],\n",
       "        [0, 0]]), array([[0, 0],\n",
       "        [0, 0],\n",
       "        [0, 0],\n",
       "        [0, 0],\n",
       "        [0, 0],\n",
       "        [0, 0],\n",
       "        [0, 0],\n",
       "        [0, 0]]), array([[1, 2],\n",
       "        [1, 0],\n",
       "        [0, 2],\n",
       "        [2, 2],\n",
       "        [2, 2],\n",
       "        [1, 1],\n",
       "        [1, 0],\n",
       "        [2, 0]]))"
      ]
     },
     "execution_count": 668,
     "metadata": {},
     "output_type": "execute_result"
    }
   ],
   "source": [
    "np.unravel_index(k_min,shape=(8,2,K))"
   ]
  },
  {
   "cell_type": "code",
   "execution_count": 591,
   "metadata": {
    "scrolled": true
   },
   "outputs": [
    {
     "data": {
      "text/plain": [
       "1024"
      ]
     },
     "execution_count": 591,
     "metadata": {},
     "output_type": "execute_result"
    }
   ],
   "source": [
    "y.size"
   ]
  },
  {
   "cell_type": "code",
   "execution_count": 625,
   "metadata": {},
   "outputs": [
    {
     "data": {
      "text/plain": [
       "array([0.03349304, 0.03170776, 0.03295898, 0.03256226, 0.03271484,\n",
       "       0.03182983, 0.03393555, 0.03326416], dtype=float32)"
      ]
     },
     "execution_count": 625,
     "metadata": {},
     "output_type": "execute_result"
    }
   ],
   "source": [
    "Pe_l"
   ]
  },
  {
   "cell_type": "code",
   "execution_count": 636,
   "metadata": {
    "scrolled": true
   },
   "outputs": [
    {
     "data": {
      "image/png": "[encoded data removed]",
      "text/plain": [
       "<Figure size 360x1152 with 8 Axes>"
      ]
     },
     "metadata": {
      "needs_background": "light"
     },
     "output_type": "display_data"
    }
   ],
   "source": [
    "fig, axs = plt.subplots(nrows = l.size,figsize = (5,2*l.size),sharex=True,sharey=True)\n",
    "for l_0 in l:\n",
    "    axs[l_0].scatter(yy_nl[:,l_0].real,yy_nl[:,l_0].imag,1)"
   ]
  },
  {
   "cell_type": "code",
   "execution_count": 356,
   "metadata": {},
   "outputs": [
    {
     "ename": "SyntaxError",
     "evalue": "invalid syntax (<ipython-input-356-556c1ed7d119>, line 1)",
     "output_type": "error",
     "traceback": [
      "\u001b[0;36m  File \u001b[0;32m\"<ipython-input-356-556c1ed7d119>\"\u001b[0;36m, line \u001b[0;32m1\u001b[0m\n\u001b[0;31m    plt.hist(np.abs(yy_nl[:,l_0] - ss_nl[]))\u001b[0m\n\u001b[0m                                         ^\u001b[0m\n\u001b[0;31mSyntaxError\u001b[0m\u001b[0;31m:\u001b[0m invalid syntax\n"
     ]
    }
   ],
   "source": [
    "plt.figure()\n",
    "for l_0 in plt.figplt.hist(np.abs(yy_nl[:,l_0] - ss_nl[:,0]))"
   ]
  },
  {
   "cell_type": "code",
   "execution_count": null,
   "metadata": {},
   "outputs": [],
   "source": []
  },
  {
   "cell_type": "code",
   "execution_count": 335,
   "metadata": {},
   "outputs": [
    {
     "data": {
      "image/png": "[encoded data removed]",
      "text/plain": [
       "<Figure size 432x288 with 1 Axes>"
      ]
     },
     "metadata": {
      "needs_background": "light"
     },
     "output_type": "display_data"
    }
   ],
   "source": [
    "plt.figure()\n",
    "for l_0 in l:\n",
    "    plt.scatter(ww_nlk[:,l_0,0].real,ww_nlk[:,l_0,0].imag)"
   ]
  },
  {
   "cell_type": "code",
   "execution_count": 240,
   "metadata": {},
   "outputs": [
    {
     "data": {
      "text/plain": [
       "array([ 0,  1,  2,  3,  4,  5,  6,  7,  8,  9, 10, 11, 12, 13, 14, 15])"
      ]
     },
     "execution_count": 240,
     "metadata": {},
     "output_type": "execute_result"
    }
   ],
   "source": [
    "al_nlk"
   ]
  },
  {
   "cell_type": "code",
   "execution_count": 266,
   "metadata": {
    "scrolled": true
   },
   "outputs": [
    {
     "data": {
      "text/plain": [
       "(8, 4)"
      ]
     },
     "execution_count": 266,
     "metadata": {},
     "output_type": "execute_result"
    }
   ],
   "source": [
    "_nl = np.argmax(np.abs(al_nlk),axis=2)\n",
    "\n",
    "ind = np.unravel_index(np.argmax(np.abs(al_nlk),axis=2),al_nlk.shape)\n",
    "rr_nlk[ind].shape"
   ]
  },
  {
   "cell_type": "code",
   "execution_count": 120,
   "metadata": {},
   "outputs": [
    {
     "data": {
      "text/plain": [
       "(1, 2, 3)"
      ]
     },
     "execution_count": 120,
     "metadata": {},
     "output_type": "execute_result"
    }
   ],
   "source": [
    "np.meshgrid(n,Ga_l,k)[1].shape"
   ]
  },
  {
   "cell_type": "code",
   "execution_count": 87,
   "metadata": {},
   "outputs": [
    {
     "name": "stderr",
     "output_type": "stream",
     "text": [
      "./python/bpsk_rayleigh_3path.py:2: RuntimeWarning: invalid value encountered in sqrt\n",
      "  # % Comparison of combining techniques using three diversity branches,\n",
      "./python/bpsk_rayleigh_3path.py:2: RuntimeWarning: divide by zero encountered in true_divide\n",
      "  # % Comparison of combining techniques using three diversity branches,\n"
     ]
    },
    {
     "data": {
      "text/plain": [
       "(32, 64, 3)"
      ]
     },
     "execution_count": 87,
     "metadata": {},
     "output_type": "execute_result"
    }
   ],
   "source": [
    "_, Ga_nlk, _ = np.meshgrid(n,Ga_l,k)\n",
    "(1/np.sqrt(Ga_nlk)).shape"
   ]
  },
  {
   "cell_type": "code",
   "execution_count": 81,
   "metadata": {},
   "outputs": [
    {
     "data": {
      "text/plain": [
       "<matplotlib.collections.PathCollection at 0x16a8a8a20>"
      ]
     },
     "execution_count": 81,
     "metadata": {},
     "output_type": "execute_result"
    },
    {
     "data": {
      "image/png": "[encoded data removed]",
      "text/plain": [
       "<Figure size 432x288 with 1 Axes>"
      ]
     },
     "metadata": {
      "needs_background": "light"
     },
     "output_type": "display_data"
    }
   ],
   "source": [
    "l_0 = 0\n",
    "k_0 = 0\n",
    "\n",
    "plt.figure()\n",
    "plt.scatter(ss_nlk[:,l_0,k_0].real,ss_nlk[:,l_0,k_0].imag,label=\"$s$\")\n",
    "plt.scatter(ww_nlk[:,l_0,k_0].real,ww_nlk[:,l_0,k_0].imag,label=\"$w$\")\n",
    "plt.scatter(rr_nlk[:,l_0,k_0].real,rr_nlk[:,l_0,k_0].imag,label=\"$r$\")"
   ]
  },
  {
   "cell_type": "code",
   "execution_count": null,
   "metadata": {},
   "outputs": [],
   "source": []
  },
  {
   "cell_type": "code",
   "execution_count": 51,
   "metadata": {},
   "outputs": [
    {
     "ename": "TypeError",
     "evalue": "'tuple' object cannot be interpreted as an integer",
     "output_type": "error",
     "traceback": [
      "\u001b[0;31m---------------------------------------------------------------------------\u001b[0m",
      "\u001b[0;31mTypeError\u001b[0m                                 Traceback (most recent call last)",
      "\u001b[0;32m/Library/Frameworks/Python.framework/Versions/3.7/lib/python3.7/site-packages/numpy/core/fromnumeric.py\u001b[0m in \u001b[0;36m_wrapfunc\u001b[0;34m(obj, method, *args, **kwds)\u001b[0m\n\u001b[1;32m     55\u001b[0m     \u001b[0;32mtry\u001b[0m\u001b[0;34m:\u001b[0m\u001b[0;34m\u001b[0m\u001b[0;34m\u001b[0m\u001b[0m\n\u001b[0;32m---> 56\u001b[0;31m         \u001b[0;32mreturn\u001b[0m \u001b[0mgetattr\u001b[0m\u001b[0;34m(\u001b[0m\u001b[0mobj\u001b[0m\u001b[0;34m,\u001b[0m \u001b[0mmethod\u001b[0m\u001b[0;34m)\u001b[0m\u001b[0;34m(\u001b[0m\u001b[0;34m*\u001b[0m\u001b[0margs\u001b[0m\u001b[0;34m,\u001b[0m \u001b[0;34m**\u001b[0m\u001b[0mkwds\u001b[0m\u001b[0;34m)\u001b[0m\u001b[0;34m\u001b[0m\u001b[0;34m\u001b[0m\u001b[0m\n\u001b[0m\u001b[1;32m     57\u001b[0m \u001b[0;34m\u001b[0m\u001b[0m\n",
      "\u001b[0;31mTypeError\u001b[0m: 'tuple' object cannot be interpreted as an integer",
      "\nDuring handling of the above exception, another exception occurred:\n",
      "\u001b[0;31mTypeError\u001b[0m                                 Traceback (most recent call last)",
      "\u001b[0;32m~/sjsu/ee252_advanced_communications/homework/hw8/python/bpsk_rayleigh_3path.py\u001b[0m in \u001b[0;36m<module>\u001b[0;34m\u001b[0m\n\u001b[0;32m----> 1\u001b[0;31m \u001b[0mrr_nlk\u001b[0m\u001b[0;34m[\u001b[0m\u001b[0mnp\u001b[0m\u001b[0;34m.\u001b[0m\u001b[0margmax\u001b[0m\u001b[0;34m(\u001b[0m\u001b[0mrr_nlk\u001b[0m\u001b[0;34m,\u001b[0m\u001b[0maxis\u001b[0m\u001b[0;34m=\u001b[0m\u001b[0;34m(\u001b[0m\u001b[0;36m1\u001b[0m\u001b[0;34m,\u001b[0m\u001b[0;34m)\u001b[0m\u001b[0;34m)\u001b[0m\u001b[0;34m]\u001b[0m\u001b[0;34m\u001b[0m\u001b[0;34m\u001b[0m\u001b[0m\n\u001b[0m",
      "\u001b[0;32m/Library/Frameworks/Python.framework/Versions/3.7/lib/python3.7/site-packages/numpy/core/fromnumeric.py\u001b[0m in \u001b[0;36margmax\u001b[0;34m(a, axis, out)\u001b[0m\n\u001b[1;32m   1101\u001b[0m \u001b[0;34m\u001b[0m\u001b[0m\n\u001b[1;32m   1102\u001b[0m     \"\"\"\n\u001b[0;32m-> 1103\u001b[0;31m     \u001b[0;32mreturn\u001b[0m \u001b[0m_wrapfunc\u001b[0m\u001b[0;34m(\u001b[0m\u001b[0ma\u001b[0m\u001b[0;34m,\u001b[0m \u001b[0;34m'argmax'\u001b[0m\u001b[0;34m,\u001b[0m \u001b[0maxis\u001b[0m\u001b[0;34m=\u001b[0m\u001b[0maxis\u001b[0m\u001b[0;34m,\u001b[0m \u001b[0mout\u001b[0m\u001b[0;34m=\u001b[0m\u001b[0mout\u001b[0m\u001b[0;34m)\u001b[0m\u001b[0;34m\u001b[0m\u001b[0;34m\u001b[0m\u001b[0m\n\u001b[0m\u001b[1;32m   1104\u001b[0m \u001b[0;34m\u001b[0m\u001b[0m\n\u001b[1;32m   1105\u001b[0m \u001b[0;34m\u001b[0m\u001b[0m\n",
      "\u001b[0;32m/Library/Frameworks/Python.framework/Versions/3.7/lib/python3.7/site-packages/numpy/core/fromnumeric.py\u001b[0m in \u001b[0;36m_wrapfunc\u001b[0;34m(obj, method, *args, **kwds)\u001b[0m\n\u001b[1;32m     64\u001b[0m     \u001b[0;31m# a downstream library like 'pandas'.\u001b[0m\u001b[0;34m\u001b[0m\u001b[0;34m\u001b[0m\u001b[0;34m\u001b[0m\u001b[0m\n\u001b[1;32m     65\u001b[0m     \u001b[0;32mexcept\u001b[0m \u001b[0;34m(\u001b[0m\u001b[0mAttributeError\u001b[0m\u001b[0;34m,\u001b[0m \u001b[0mTypeError\u001b[0m\u001b[0;34m)\u001b[0m\u001b[0;34m:\u001b[0m\u001b[0;34m\u001b[0m\u001b[0;34m\u001b[0m\u001b[0m\n\u001b[0;32m---> 66\u001b[0;31m         \u001b[0;32mreturn\u001b[0m \u001b[0m_wrapit\u001b[0m\u001b[0;34m(\u001b[0m\u001b[0mobj\u001b[0m\u001b[0;34m,\u001b[0m \u001b[0mmethod\u001b[0m\u001b[0;34m,\u001b[0m \u001b[0;34m*\u001b[0m\u001b[0margs\u001b[0m\u001b[0;34m,\u001b[0m \u001b[0;34m**\u001b[0m\u001b[0mkwds\u001b[0m\u001b[0;34m)\u001b[0m\u001b[0;34m\u001b[0m\u001b[0;34m\u001b[0m\u001b[0m\n\u001b[0m\u001b[1;32m     67\u001b[0m \u001b[0;34m\u001b[0m\u001b[0m\n\u001b[1;32m     68\u001b[0m \u001b[0;34m\u001b[0m\u001b[0m\n",
      "\u001b[0;32m/Library/Frameworks/Python.framework/Versions/3.7/lib/python3.7/site-packages/numpy/core/fromnumeric.py\u001b[0m in \u001b[0;36m_wrapit\u001b[0;34m(obj, method, *args, **kwds)\u001b[0m\n\u001b[1;32m     44\u001b[0m     \u001b[0;32mexcept\u001b[0m \u001b[0mAttributeError\u001b[0m\u001b[0;34m:\u001b[0m\u001b[0;34m\u001b[0m\u001b[0;34m\u001b[0m\u001b[0m\n\u001b[1;32m     45\u001b[0m         \u001b[0mwrap\u001b[0m \u001b[0;34m=\u001b[0m \u001b[0;32mNone\u001b[0m\u001b[0;34m\u001b[0m\u001b[0;34m\u001b[0m\u001b[0m\n\u001b[0;32m---> 46\u001b[0;31m     \u001b[0mresult\u001b[0m \u001b[0;34m=\u001b[0m \u001b[0mgetattr\u001b[0m\u001b[0;34m(\u001b[0m\u001b[0masarray\u001b[0m\u001b[0;34m(\u001b[0m\u001b[0mobj\u001b[0m\u001b[0;34m)\u001b[0m\u001b[0;34m,\u001b[0m \u001b[0mmethod\u001b[0m\u001b[0;34m)\u001b[0m\u001b[0;34m(\u001b[0m\u001b[0;34m*\u001b[0m\u001b[0margs\u001b[0m\u001b[0;34m,\u001b[0m \u001b[0;34m**\u001b[0m\u001b[0mkwds\u001b[0m\u001b[0;34m)\u001b[0m\u001b[0;34m\u001b[0m\u001b[0;34m\u001b[0m\u001b[0m\n\u001b[0m\u001b[1;32m     47\u001b[0m     \u001b[0;32mif\u001b[0m \u001b[0mwrap\u001b[0m\u001b[0;34m:\u001b[0m\u001b[0;34m\u001b[0m\u001b[0;34m\u001b[0m\u001b[0m\n\u001b[1;32m     48\u001b[0m         \u001b[0;32mif\u001b[0m \u001b[0;32mnot\u001b[0m \u001b[0misinstance\u001b[0m\u001b[0;34m(\u001b[0m\u001b[0mresult\u001b[0m\u001b[0;34m,\u001b[0m \u001b[0mmu\u001b[0m\u001b[0;34m.\u001b[0m\u001b[0mndarray\u001b[0m\u001b[0;34m)\u001b[0m\u001b[0;34m:\u001b[0m\u001b[0;34m\u001b[0m\u001b[0;34m\u001b[0m\u001b[0m\n",
      "\u001b[0;31mTypeError\u001b[0m: 'tuple' object cannot be interpreted as an integer"
     ]
    }
   ],
   "source": [
    "rr_nlk[np.argmax(rr_nlk,axis=(1,))]"
   ]
  },
  {
   "cell_type": "code",
   "execution_count": null,
   "metadata": {},
   "outputs": [],
   "source": [
    "np.amax(rr_nlk,"
   ]
  },
  {
   "cell_type": "code",
   "execution_count": 50,
   "metadata": {},
   "outputs": [
    {
     "data": {
      "text/plain": [
       "<matplotlib.legend.Legend at 0x11e8d6588>"
      ]
     },
     "execution_count": 50,
     "metadata": {},
     "output_type": "execute_result"
    },
    {
     "data": {
      "image/png": "[encoded data removed]",
      "text/plain": [
       "<Figure size 432x288 with 1 Axes>"
      ]
     },
     "metadata": {
      "needs_background": "light"
     },
     "output_type": "display_data"
    }
   ],
   "source": [
    "rr_nk = rr_nlk[:,0,:]\n",
    "for k_0 in k:\n",
    "    plt.scatter(rr_nk[:,k_0].real,rr_nk[:,k_0].imag,label=\"branch {}\".format(k_0))\n",
    "plt.legend()"
   ]
  },
  {
   "cell_type": "code",
   "execution_count": 48,
   "metadata": {},
   "outputs": [
    {
     "data": {
      "text/plain": [
       "(512, 32)"
      ]
     },
     "execution_count": 48,
     "metadata": {},
     "output_type": "execute_result"
    }
   ],
   "source": [
    "rr_nl.shape"
   ]
  }
 ],
 "metadata": {
  "kernelspec": {
   "display_name": "Python 3",
   "language": "python",
   "name": "python3"
  },
  "language_info": {
   "codemirror_mode": {
    "name": "ipython",
    "version": 3
   },
   "file_extension": ".py",
   "mimetype": "text/x-python",
   "name": "python",
   "nbconvert_exporter": "python",
   "pygments_lexer": "ipython3",
   "version": "3.7.3"
  }
 },
 "nbformat": 4,
 "nbformat_minor": 2
}
